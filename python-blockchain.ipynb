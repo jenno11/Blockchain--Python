{
 "cells": [
  {
   "cell_type": "code",
   "execution_count": 1,
   "id": "c883a65b-236b-43fe-96c7-ae19a23b5778",
   "metadata": {},
   "outputs": [],
   "source": [
    "# Import dependencies\n",
    "import subprocess\n",
    "import json\n",
    "import os\n",
    "from dotenv import load_dotenv"
   ]
  },
  {
   "cell_type": "code",
   "execution_count": 2,
   "id": "c0ca57d7-2dd5-44b5-a5d5-a0b440fdcf26",
   "metadata": {},
   "outputs": [],
   "source": [
    "# Load and set environment variables\n",
    "load_dotenv()\n",
    "mnemonic=os.getenv(\"mnemonic\")"
   ]
  },
  {
   "cell_type": "code",
   "execution_count": 3,
   "id": "7002e4f1-b861-4189-bf13-7fc179f19607",
   "metadata": {},
   "outputs": [],
   "source": [
    "# Import constants.py and necessary functions from bit and web3\n",
    "from constants import *\n",
    "from web3 import Web3\n",
    "from bit import *\n",
    "w3 = Web3(Web3.HTTPProvider('http://127.0.0.1:8545'))"
   ]
  },
  {
   "cell_type": "code",
   "execution_count": 4,
   "id": "f98b5be0-bef9-41e4-948e-5852d84034ea",
   "metadata": {},
   "outputs": [
    {
     "data": {
      "text/plain": [
       "'btc'"
      ]
     },
     "execution_count": 4,
     "metadata": {},
     "output_type": "execute_result"
    }
   ],
   "source": [
    "BTC"
   ]
  },
  {
   "cell_type": "code",
   "execution_count": 5,
   "id": "6c5c6645-59b9-4574-97e4-15bfab4c5dbf",
   "metadata": {},
   "outputs": [],
   "source": [
    "# Load and set environment variables\n",
    "load_dotenv('mnemonic.env')\n",
    "mnemonic=os.getenv(\"mnemonic\")"
   ]
  },
  {
   "cell_type": "code",
   "execution_count": 6,
   "id": "291bbc92-72fa-4a4e-a2bd-b7da77b37ef6",
   "metadata": {},
   "outputs": [
    {
     "data": {
      "text/plain": [
       "'point glory pull boost average boy range awesome calm unaware tongue intact fun draft life'"
      ]
     },
     "execution_count": 6,
     "metadata": {},
     "output_type": "execute_result"
    }
   ],
   "source": [
    "mnemonic"
   ]
  },
  {
   "cell_type": "code",
   "execution_count": 7,
   "id": "5e58f24f-ba16-48e6-a5d6-782edb016b30",
   "metadata": {},
   "outputs": [],
   "source": [
    "# Create a function called `derive_wallets`\n",
    "def derive_wallets(coin=BTC, mnemonic=mnemonic, depth=3):\n",
    "    command = f'php ./derive -g --mnemonic=\"{mnemonic}\" --cols=all --coin={coin} --numderive={depth} --format=json'\n",
    "    p = subprocess.Popen(command, stdout=subprocess.PIPE, shell=True)\n",
    "    output, err = p.communicate()\n",
    "    p_status = p.wait()\n",
    "    return json.loads(output)"
   ]
  },
  {
   "cell_type": "code",
   "execution_count": 8,
   "id": "6ad062f1-7f05-4765-ace9-0f3197b4e41e",
   "metadata": {},
   "outputs": [
    {
     "data": {
      "text/plain": [
       "[{'path': \"m/44'/0'/0'/0/0\",\n",
       "  'address': '1FvNN2TbuFti8zFBSgDvVtktH1LKF9ykED',\n",
       "  'xprv': 'xprvA3dEwFckQ2UAtfRVdnx1vN9BJTe1L5GEWFDoTVgfwDGXGpURWYWQvTz2ubGXoqKKNjX1e3NnNHZ1YKsMnMw9wRr8KK3D1AY43yJEmPw2bSF',\n",
       "  'xpub': 'xpub6GcbLm9eEQ2U79VxjpV2HW5urVUVjXz5sU9QFt6HVYoW9coa45pfUGJWktaKZBhuJ9GTv23N4fm3gvhr6FumVkTSntJqi1AGYuFyDdYpPQ3',\n",
       "  'privkey': 'KwXXaJQzLMsXyuYH1znbcRHwuLxA5xGz9wvkDpGdGRiCEiWvvf3F',\n",
       "  'pubkey': '0334f06454a668b2938932b4ba0f931a56be50150262c70cb6592b70cbf4a595e4',\n",
       "  'pubkeyhash': 'a3a9a3b4190d93cb89c92c61fcb18ac034b498e6',\n",
       "  'index': 0},\n",
       " {'path': \"m/44'/0'/0'/0/1\",\n",
       "  'address': '16fwgLTq6xwKW87bdKJMWUW2vjxbwfGiuw',\n",
       "  'xprv': 'xprvA3dEwFckQ2UAvJqfw6EMkbfruuTuiGTvRRFmH9wm5Gx8TzUqeuQJ2TxkJDDCbQvKX39dzPE4N4HSgrWTZeub3yrwqPrfN8QAccGfDeJfNZc',\n",
       "  'xpub': 'xpub6GcbLm9eEQ2U8nv937mN7jcbTwJQ7jBmneBN5YMNdcV7LnozCSiYaGHE9Ua8Kd1dFDEcR294DbgK7YcaG3BnewiSERnUNfee9RV3UzLniU8',\n",
       "  'privkey': 'L5Qpr6Cdj5rzk2e6eW2UPQVidT9HUH6TqAtmKbDxGn2teKxPLQzi',\n",
       "  'pubkey': '031fec246ca8a8c0b97af6b0e46830e85fcb96a071c61e8d43b7df48fa6bf85191',\n",
       "  'pubkeyhash': '3e36141a7c01050bc24fa73961d0b9c1dc4874b0',\n",
       "  'index': 1},\n",
       " {'path': \"m/44'/0'/0'/0/2\",\n",
       "  'address': '1AktffNUSf6Jg72jZbNqhBkgNYRsFAqrG1',\n",
       "  'xprv': 'xprvA3dEwFckQ2UAyJNxNfALcv4xTHYQohQamwJzEJ1Dekruy9JGkbkJJcbefqCAUgo19TUnf5hXWD24ZKPhh25xcYo7N6rXdPX9k5ND4UdvzAo',\n",
       "  'xpub': 'xpub6GcbLm9eEQ2UBnTRUghLz41h1KNuDA8S9AEb2gQqD6PtqwdRJ94YrQv8X9sXfzZgvmuDFopWSz776kVxqwD9tK7an17JmDYMuM5dix3o2BT',\n",
       "  'privkey': 'KwFUAYWyxbn5Ba4DXxTaCSpsLaKz1C1ytiEtDj2ANPHPMMdbmoZQ',\n",
       "  'pubkey': '03e15dca90baa649c229ae12b068515e7a20cc12b34fb7005042c2f73f56f0f436',\n",
       "  'pubkeyhash': '6b0625c27a3da76085e96a57b3b97ac2942dd9a3',\n",
       "  'index': 2}]"
      ]
     },
     "execution_count": 8,
     "metadata": {},
     "output_type": "execute_result"
    }
   ],
   "source": [
    "derive_wallets()"
   ]
  },
  {
   "cell_type": "code",
   "execution_count": 9,
   "id": "0cad2c20-efa8-4446-9f51-983a16e06d13",
   "metadata": {},
   "outputs": [
    {
     "name": "stdout",
     "output_type": "stream",
     "text": [
      "{'eth': [{'path': \"m/44'/60'/0'/0/0\", 'address': '0x386b2Bb9Da477f4a42552B7Cc949657b8c3b3FFC', 'xprv': 'xprvA3tfiUxQvEcDjFmaDd1AfGiftRMszXroJ68Wn3DYnbksNHRZCpbpj9KFuSbdyDGqPmoqqtWQSEfLE19Xs7FPeT5kiyrVvCLz3i8bwxkWYsY', 'xpub': 'xpub6Gt27zVJkcAWwjr3KeYB2QfQSTCNPzaefK47aRdALwHrF5khkMv5GwdjkkXtdLpSXycnztcvZTSJpVtYtWvoAJzF1AqbNFcEz3ya8MoguC3', 'privkey': '0x1db9896a91709773cf4e07237e95ea8b7f33152ae1f6481120c5b9c86cbfef95', 'pubkey': '039c4b3cf53cabf1a7d88454700de49b5c16b83eab214fed4273fbf16dcbe6fe2e', 'pubkeyhash': 'b3ffd716c5aebd14c5ccfd1107ad154f0ef6d5a8', 'index': 0}, {'path': \"m/44'/60'/0'/0/1\", 'address': '0x4a6fb1D8e68271d423DCD75D2E402e9c5DCEe00d', 'xprv': 'xprvA3tfiUxQvEcDkfGDbvFuxfbcEYCGLGnQDoM8V5xJBKbQ4ychCD3C6kRsFoRp3576ubCnEvkiAcQe2JfnPPNK2WMrUi5JfMC8PpfH4xo9ZyH', 'xpub': 'xpub6Gt27zVJkcAWy9LghwnvKoYLna2kjjWFb2GjHUMujf8NwmwqjkMSeYkM741KhN2fX7eHnscguyZL1ZiK3ouS7cbbzMUtvp2xAjkVNosHvCJ', 'privkey': '0x931d195fe605976b1ecb939f8da39e2a7a7f1dd88556e15ec005aca97cc94a5a', 'pubkey': '02577fb1404e73e9a38295adc5436799346a487cc0dc91222c5a67e870c5330485', 'pubkeyhash': '4f0bba18d7bd733a06c13f4a4fa77a1f72f07b1b', 'index': 1}, {'path': \"m/44'/60'/0'/0/2\", 'address': '0xD66c0Cf5F84647B2535B406407BE2C5Af140c2EE', 'xprv': 'xprvA3tfiUxQvEcDn65UZGWsxVZ2BtnQLWpxydbfm4nrS5r7gtQRcwJdqAbBYYi5ewbFcb2hRBhoohNSTRqaivHtmssN8XTe5Tc2aECWP5Wyc9L', 'xpub': 'xpub6Gt27zVJkcAWza9wfJ3tKdVkjvctjyYpLrXGZTCTzRP6ZgjaAUctNxufPqukWpL6dvbQ7SaoqFuCtaZeMZffu7UweVrKbao7tU6w5ueK9Fe', 'privkey': '0x7a4c45847765a98f1701dbf1ced54bfb61f7c7c9267f8eb6d00f19ccfcab3145', 'pubkey': '03982d85629de55bf5553925543655ee2e2e9ee8b1a6caeb1d58c5a373918483a7', 'pubkeyhash': '93299548ab5718591733ddb65a972366ff9746a3', 'index': 2}], 'btc-test': [{'path': \"m/44'/1'/0'/0/0\", 'address': 'mjDFUoHBtQqSE5fvwE3UXmVZgocg7wFfq4', 'xprv': 'tprv8kGkzx6r7DRJi54ReTPhk29vg4Zsizdf6NpCcFqSP5265Gc9bRvzpgYBaJT9mMG55gD3QuAhY6TxzypBDBNEw7isJxZxprByaw4vrY27Ur8', 'xpub': 'tpubDGxo9N96Fb6ybY6DY74J9Rp3F65otKpZfgQytmsjoLpUukrvDpkb1BA3kRwotDG345W51B2aHMbLvTer2M67aid18kJgBXgm3USvgAqE4N1', 'privkey': 'cMvWJyojnarLxvwy5ndszpWssPCjrJKfdW35ETzsgYEhsaynMR6A', 'pubkey': '02524e60ed27a8423f713b98eb5909c741b7a3006cdceeb664b8e587eeb76b0b05', 'pubkeyhash': '28875c817277acd6e227fd57e81c9967c8338ca8', 'index': 0}, {'path': \"m/44'/1'/0'/0/1\", 'address': 'mfnHTP1Ju7TLy837jpNs3ibzWHbeYfnMSw', 'xprv': 'tprv8kGkzx6r7DRJkE1RJjViLe7tWRxNR8CvEZevfXDnm5QxacJdLkxfMsnp5CJLvjuQHvLPJXy2N4gnoD13oFPikVRBp7Dy9m5SexLuDkxRBxQ', 'xpub': 'tpubDGxo9N96Fb6ydh3DCPAJk3n15TUJaTPposFhx3G6BMDMR6ZPy9nFYNQgFHtdToCr8LHP1AaqewmzGwXik6upybRMXeDJsFfJXQ6NB8Ym7UA', 'privkey': 'cUBCqA1M4Q83zDLbHgfBBtE3EKgmBVW3wiH81WDfd5wRUJ6WioR7', 'pubkey': '0212475788d8ee70060eb2951635174d57910a7b7590d79bfcc6f01d110ad7a561', 'pubkeyhash': '02e63beafb45e3c1cafe63e4268b27a55175ed5a', 'index': 1}, {'path': \"m/44'/1'/0'/0/2\", 'address': 'mxqjV25Y1vcHD2V8FThxvYcydvP96E1iW7', 'xprv': 'tprv8kGkzx6r7DRJnnH3tbDGHPFrbPnSPrpPqTSAXB14N2D6MHhxjDgjKmEffZzCRoiLBF7BLdn7BhuYWWoKsb5Fsx1LW8VGyg7HpDpRchEA4PV', 'xpub': 'tpubDGxo9N96Fb6ygFJqnEsrgnuyARJNZC1JQm2woh3MnJ1VBmxjMcWKWFrXqjPR3wTggu7G7fC4brP4TL3bHx5hzNbdLLw68T7QtT48vdFRAmC', 'privkey': 'cScNGBYSFL63HSYp8MzcAS8Rkec9TzRSx5F8gEhEL8mpQswUTvtV', 'pubkey': '03d933ee4362b0b1a84c34c7d6ee0ae85b0db5d597dba7af137d4aa67db138ed86', 'pubkeyhash': 'be0758f9de3bf1b38482d48e657de76bbd6c28f6', 'index': 2}]}\n"
     ]
    }
   ],
   "source": [
    "# Create a dictionary object called coins to store the output from `derive_wallets`.\n",
    "coins = coins = {\n",
    "    ETH: derive_wallets(coin = ETH),\n",
    "    BTCTEST: derive_wallets(coin = BTCTEST),\n",
    "}\n",
    "print(coins)"
   ]
  },
  {
   "cell_type": "code",
   "execution_count": 10,
   "id": "483eb650-db15-46e5-9e7a-63dc6ddb4762",
   "metadata": {},
   "outputs": [
    {
     "name": "stdout",
     "output_type": "stream",
     "text": [
      "0x1db9896a91709773cf4e07237e95ea8b7f33152ae1f6481120c5b9c86cbfef95\n",
      "cUBCqA1M4Q83zDLbHgfBBtE3EKgmBVW3wiH81WDfd5wRUJ6WioR7\n"
     ]
    }
   ],
   "source": [
    "# Create a function called `priv_key_to_account` that converts privkey strings to account objects.\n",
    "def priv_key_to_account(coin, priv_key):\n",
    "    if coin == BTCTEST:\n",
    "        return PrivateKeyTestnet(priv_key)\n",
    "    elif coin == ETH:\n",
    "        return Account.privateKeyToAccount(priv_key)\n",
    "    \n",
    "Eth_PrivateKey = coins[\"eth\"][0]['privkey']\n",
    "Btc_PrivateKey = coins['btc-test'][1]['privkey']\n",
    "print(Eth_PrivateKey)\n",
    "print(Btc_PrivateKey)"
   ]
  },
  {
   "cell_type": "code",
   "execution_count": 11,
   "id": "423a6275-cf6e-4a5d-910f-8f615f0ce795",
   "metadata": {},
   "outputs": [],
   "source": [
    "# Create a function called `create_tx` that creates an unsigned transaction appropriate metadata.\n",
    "def create_tx(coin,account,to,amount):\n",
    "    if coin == ETH:\n",
    "        value= w3.toWei(amount,\"ether\")\n",
    "        gas_estimate=w3.eth.estimateGas({'to':to,\n",
    "                                        'from':account.address,\n",
    "                                        'amount':value})\n",
    "        gas_price=w3.eth.generateGasPrice()\n",
    "        nonce=w3.eth.getTransactionCount(account.address)\n",
    "        chainID=w3.eth.chain_id\n",
    "        return {\"to\":to,\n",
    "               'from':account.address,\n",
    "               \"value\":value,\n",
    "               \"gas\":gas_estimate,\n",
    "               \"gasPrice\":gas_price,\n",
    "               \"nonce\":nonce,\n",
    "               \"chainID\":chainID}\n",
    "            \n",
    "    if coin == BTCTEST:\n",
    "        return PrivateKeyTestnet.prepare_transaction(account.address, [(to, amount, BTC)])"
   ]
  },
  {
   "cell_type": "code",
   "execution_count": 12,
   "id": "9a291b0b-e9c9-4afd-9ae0-bab84a31bd02",
   "metadata": {},
   "outputs": [],
   "source": [
    "# Create a function called `send_tx` that calls `create_tx`, signs and sends the transaction.\n",
    "def send_tx(coin,account,to,amount):\n",
    "    raw_tx = create_tx(coin,account,to,amount)\n",
    "    if coin == ETH:\n",
    "        signedtx=account.signTransaction(raw_tx)\n",
    "        return w3.eth.sendRawTransaction(signedtx.rawTransaction)\n",
    "                \n",
    "                \n",
    "    if coin== BTC:\n",
    "        signedtx=account.sign_transaction(raw_tx)\n",
    "        return NetworkAPI.broadcast_tx_testnet(signedtx)"
   ]
  },
  {
   "cell_type": "code",
   "execution_count": null,
   "id": "21c3b4b4-ca6c-4745-b9e6-4a553f58e0ef",
   "metadata": {},
   "outputs": [],
   "source": []
  },
  {
   "cell_type": "code",
   "execution_count": null,
   "id": "72b8434b-db24-46b3-8672-713375d5548f",
   "metadata": {},
   "outputs": [],
   "source": []
  }
 ],
 "metadata": {
  "kernelspec": {
   "display_name": "Python [conda env:eth]",
   "language": "python",
   "name": "conda-env-eth-py"
  },
  "language_info": {
   "codemirror_mode": {
    "name": "ipython",
    "version": 3
   },
   "file_extension": ".py",
   "mimetype": "text/x-python",
   "name": "python",
   "nbconvert_exporter": "python",
   "pygments_lexer": "ipython3",
   "version": "3.7.10"
  }
 },
 "nbformat": 4,
 "nbformat_minor": 5
}
